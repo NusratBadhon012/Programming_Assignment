{
 "cells": [
  {
   "cell_type": "code",
   "execution_count": 24,
   "id": "bd263fca",
   "metadata": {},
   "outputs": [],
   "source": [
    "class list_parser:\n",
    "    \n",
    "    def __init__(self, l):\n",
    "        self.l= l\n",
    "        \n",
    "    def parcer(self):\n",
    "        if type(self.l)==list:\n",
    "            for i in self.l :\n",
    "                print(i)\n",
    "                \n",
    "    def reverse_list(m):\n",
    "        if type(m.l)==list:\n",
    "            return m.l[::-1]"
   ]
  },
  {
   "cell_type": "code",
   "execution_count": 20,
   "id": "bd9a9b00",
   "metadata": {},
   "outputs": [
    {
     "name": "stdout",
     "output_type": "stream",
     "text": [
      "1\n",
      "2\n",
      "3\n",
      "4\n"
     ]
    }
   ],
   "source": [
    "c.parcer()"
   ]
  },
  {
   "cell_type": "code",
   "execution_count": 26,
   "id": "0b7a45c4",
   "metadata": {},
   "outputs": [
    {
     "data": {
      "text/plain": [
       "[4, 3, 2, 1]"
      ]
     },
     "execution_count": 26,
     "metadata": {},
     "output_type": "execute_result"
    }
   ],
   "source": [
    "c.reverse_list()"
   ]
  },
  {
   "cell_type": "code",
   "execution_count": null,
   "id": "c2faec2d",
   "metadata": {},
   "outputs": [],
   "source": [
    "\"\"\"Create a class for dictionary parsing\n",
    "1. Write a function to give all the keys\n",
    "2. Write a function to give all the value\n",
    "3. Write a function to throw an exception \n",
    "in case of input is not a dictionary\n",
    "4. Write  a function to take user input and then\n",
    "parse a key and value out of dictionary.\n",
    "5. Write a function to insert new key value pair into dictionary.\"\"\""
   ]
  },
  {
   "cell_type": "code",
   "execution_count": 50,
   "id": "496beea2",
   "metadata": {},
   "outputs": [],
   "source": [
    "class dic:\n",
    "    def __init__(self,d):\n",
    "        self.d= d\n",
    "    def key(self):\n",
    "        #1\n",
    "        l=[]\n",
    "        for i in self.d.keys():\n",
    "            l.append(i)\n",
    "        return l\n",
    "    def value(self):\n",
    "          return list(self.d.values())\n",
    "    def ex(self):\n",
    "        if type(self.d)!= dict:\n",
    "            raise Exception(\"This is not dictioanry\")\n",
    "    def new(self):\n",
    "        n= dict()\n",
    "        for i in range(3):\n",
    "            self.key= input(\"Enter the key\")\n",
    "            self.value= int(input(\"Enter the value\"))\n",
    "            n[self.key]=self.value\n",
    "        return n\n",
    "    def new_key(self):\n",
    "        self.key= input(\"Enter new key\")\n",
    "        self.value= int(input(\"Enter new value\"))\n",
    "        self.d[self.key]=self.value\n",
    "        \n",
    "        return self.d"
   ]
  },
  {
   "cell_type": "code",
   "execution_count": 51,
   "id": "83eae6e2",
   "metadata": {},
   "outputs": [],
   "source": [
    "d= dic({\"a\": 1,\"b\":2,\"c\":3})"
   ]
  },
  {
   "cell_type": "code",
   "execution_count": 52,
   "id": "859d0a54",
   "metadata": {},
   "outputs": [
    {
     "data": {
      "text/plain": [
       "['a', 'b', 'c']"
      ]
     },
     "execution_count": 52,
     "metadata": {},
     "output_type": "execute_result"
    }
   ],
   "source": [
    "d.key()"
   ]
  },
  {
   "cell_type": "code",
   "execution_count": 53,
   "id": "fdea5185",
   "metadata": {},
   "outputs": [
    {
     "data": {
      "text/plain": [
       "[1, 2, 3]"
      ]
     },
     "execution_count": 53,
     "metadata": {},
     "output_type": "execute_result"
    }
   ],
   "source": [
    "d.value()"
   ]
  },
  {
   "cell_type": "code",
   "execution_count": 38,
   "id": "aae08a87",
   "metadata": {},
   "outputs": [],
   "source": [
    "d= dic((1,2,4))"
   ]
  },
  {
   "cell_type": "code",
   "execution_count": 39,
   "id": "25ef2aa4",
   "metadata": {},
   "outputs": [
    {
     "ename": "Exception",
     "evalue": "This is not dictioanry",
     "output_type": "error",
     "traceback": [
      "\u001b[1;31m---------------------------------------------------------------------------\u001b[0m",
      "\u001b[1;31mException\u001b[0m                                 Traceback (most recent call last)",
      "\u001b[1;32m<ipython-input-39-ac2254710d72>\u001b[0m in \u001b[0;36m<module>\u001b[1;34m\u001b[0m\n\u001b[1;32m----> 1\u001b[1;33m \u001b[0md\u001b[0m\u001b[1;33m.\u001b[0m\u001b[0mex\u001b[0m\u001b[1;33m(\u001b[0m\u001b[1;33m)\u001b[0m\u001b[1;33m\u001b[0m\u001b[1;33m\u001b[0m\u001b[0m\n\u001b[0m",
      "\u001b[1;32m<ipython-input-37-e29d5f403322>\u001b[0m in \u001b[0;36mex\u001b[1;34m(self)\u001b[0m\n\u001b[0;32m     16\u001b[0m     \u001b[1;32mdef\u001b[0m \u001b[0mex\u001b[0m\u001b[1;33m(\u001b[0m\u001b[0mself\u001b[0m\u001b[1;33m)\u001b[0m\u001b[1;33m:\u001b[0m\u001b[1;33m\u001b[0m\u001b[1;33m\u001b[0m\u001b[0m\n\u001b[0;32m     17\u001b[0m         \u001b[1;32mif\u001b[0m \u001b[0mtype\u001b[0m\u001b[1;33m(\u001b[0m\u001b[0mself\u001b[0m\u001b[1;33m.\u001b[0m\u001b[0md\u001b[0m\u001b[1;33m)\u001b[0m\u001b[1;33m!=\u001b[0m \u001b[0mdict\u001b[0m\u001b[1;33m:\u001b[0m\u001b[1;33m\u001b[0m\u001b[1;33m\u001b[0m\u001b[0m\n\u001b[1;32m---> 18\u001b[1;33m             \u001b[1;32mraise\u001b[0m \u001b[0mException\u001b[0m\u001b[1;33m(\u001b[0m\u001b[1;34m\"This is not dictioanry\"\u001b[0m\u001b[1;33m)\u001b[0m\u001b[1;33m\u001b[0m\u001b[1;33m\u001b[0m\u001b[0m\n\u001b[0m",
      "\u001b[1;31mException\u001b[0m: This is not dictioanry"
     ]
    }
   ],
   "source": [
    "d.ex()"
   ]
  },
  {
   "cell_type": "code",
   "execution_count": 42,
   "id": "e21a3430",
   "metadata": {},
   "outputs": [
    {
     "name": "stdout",
     "output_type": "stream",
     "text": [
      "Enter the keya\n",
      "Enter the value1\n",
      "Enter the keyb\n",
      "Enter the value2\n",
      "Enter the keyc\n",
      "Enter the value3\n"
     ]
    },
    {
     "data": {
      "text/plain": [
       "{'a': 1, 'b': 2, 'c': 3}"
      ]
     },
     "execution_count": 42,
     "metadata": {},
     "output_type": "execute_result"
    }
   ],
   "source": [
    "d.new()"
   ]
  },
  {
   "cell_type": "code",
   "execution_count": 45,
   "id": "180982f8",
   "metadata": {},
   "outputs": [
    {
     "name": "stdout",
     "output_type": "stream",
     "text": [
      "Enter new keyd\n",
      "Enter new value4\n"
     ]
    },
    {
     "data": {
      "text/plain": [
       "{'a': 1, 'b': 2, 'c': 3, 'd': 4}"
      ]
     },
     "execution_count": 45,
     "metadata": {},
     "output_type": "execute_result"
    }
   ],
   "source": [
    "d.new_key()"
   ]
  },
  {
   "cell_type": "code",
   "execution_count": 56,
   "id": "70efcb4c",
   "metadata": {},
   "outputs": [
    {
     "data": {
      "text/plain": [
       "<_io.TextIOWrapper name='my_dict.txt' mode='w' encoding='cp1252'>"
      ]
     },
     "execution_count": 56,
     "metadata": {},
     "output_type": "execute_result"
    }
   ],
   "source": [
    "open('my_dict.txt','w')"
   ]
  },
  {
   "cell_type": "code",
   "execution_count": null,
   "id": "c0da2d24",
   "metadata": {},
   "outputs": [],
   "source": [
    "\"\"\"\n",
    "1. Create your own package for all list function.\n",
    "2. create your own package for all tuple function\n",
    "3. \" \"\" for dictionary function.\n",
    "4. Set function.\n",
    "\"\"\"\n",
    "\n",
    "\"\"\"\n",
    "1. Always use exception handling\n",
    "2. don't use print\n",
    "3. Loging function \n",
    "\n",
    "\"\"\""
   ]
  },
  {
   "cell_type": "raw",
   "id": "426a99b5",
   "metadata": {},
   "source": [
    "##OOP Class 2"
   ]
  },
  {
   "cell_type": "code",
   "execution_count": 24,
   "id": "850510dd",
   "metadata": {},
   "outputs": [],
   "source": [
    "#Inheritance\n",
    "#multilevel inheritance\n",
    "\n",
    "class One:\n",
    "    def __init__(self,a,b):\n",
    "        self.a=a\n",
    "        self.b=b\n",
    "    def test(self):\n",
    "        print(\"THIs is test from class ONE\")\n",
    "        \n",
    "class Two(One):\n",
    "    def __init__(self,p,q):\n",
    "        self.p=p\n",
    "        self.q=q\n",
    "    def test1(self):\n",
    "        print(\"This is test1 from class TWO\")\n",
    "\n",
    "class Three(Two):\n",
    "    def __init__(self,*args,**kwargs):\n",
    "        One.__init__(self,*args)\n",
    "        Two.__init__(self,**kwargs)\n",
    "    pass\n",
    "\n",
    "x= Three(5,6,p=4,q=7)"
   ]
  },
  {
   "cell_type": "code",
   "execution_count": 26,
   "id": "57cca1e5",
   "metadata": {},
   "outputs": [
    {
     "data": {
      "text/plain": [
       "6"
      ]
     },
     "execution_count": 26,
     "metadata": {},
     "output_type": "execute_result"
    }
   ],
   "source": [
    "x.p\n",
    "x.b"
   ]
  },
  {
   "cell_type": "code",
   "execution_count": null,
   "id": "b47a89cb",
   "metadata": {},
   "outputs": [],
   "source": [
    "#mutiple inheritance\n"
   ]
  },
  {
   "cell_type": "code",
   "execution_count": 11,
   "id": "d5b1e07c",
   "metadata": {},
   "outputs": [],
   "source": [
    "class four:\n",
    "    def __init__(self,a,b):\n",
    "        self.a=a\n",
    "        self.b=b\n",
    "    def test(self):\n",
    "        print(\"THIs is test from class ONE\")\n",
    "        \n",
    "class five():\n",
    "    def __init__(self,p,q):\n",
    "        self.p=p\n",
    "        self.q=q\n",
    "    def test1(self):\n",
    "        print(\"This is test1 from class TWO\")\n",
    "        \n",
    "        \n",
    "\"\"\"It will only take varibale from first one not the second class\"\"\"\n",
    "\"\"\"class six(four,five):\n",
    "    pass\"\"\"\n",
    "\n",
    "\"\"\"For taking both class variable this way can do\"\"\"\n",
    "\n",
    "\n",
    "class six(four,five):\n",
    "    def __init__(self,*args,**kwargs):\n",
    "        four.__init__(self,*args)\n",
    "        five.__init__(self,**kwargs)"
   ]
  },
  {
   "cell_type": "code",
   "execution_count": 7,
   "id": "85a516f9",
   "metadata": {},
   "outputs": [],
   "source": [
    "y=six(1,2)"
   ]
  },
  {
   "cell_type": "code",
   "execution_count": 12,
   "id": "63fd7a5d",
   "metadata": {},
   "outputs": [],
   "source": [
    "n=six(1,2,p=3,q=4)"
   ]
  },
  {
   "cell_type": "code",
   "execution_count": 13,
   "id": "5156fb55",
   "metadata": {},
   "outputs": [
    {
     "data": {
      "text/plain": [
       "1"
      ]
     },
     "execution_count": 13,
     "metadata": {},
     "output_type": "execute_result"
    }
   ],
   "source": [
    "n.a"
   ]
  },
  {
   "cell_type": "code",
   "execution_count": 14,
   "id": "2e0db80c",
   "metadata": {},
   "outputs": [
    {
     "data": {
      "text/plain": [
       "3"
      ]
     },
     "execution_count": 14,
     "metadata": {},
     "output_type": "execute_result"
    }
   ],
   "source": [
    "n.p"
   ]
  },
  {
   "cell_type": "code",
   "execution_count": 18,
   "id": "1ed3368a",
   "metadata": {},
   "outputs": [],
   "source": [
    "class grandfather:\n",
    "    def __init__(a,b):\n",
    "        self.a=a\n",
    "        self.b=b\n",
    "class father:\n",
    "    def __init__(c,d):\n",
    "        self.c=c\n",
    "        self.d=d\n",
    "class mother:\n",
    "    def __init__(e,f):\n",
    "        self.e=e\n",
    "        self.f=f    "
   ]
  },
  {
   "cell_type": "code",
   "execution_count": 35,
   "id": "1ed041ce",
   "metadata": {},
   "outputs": [],
   "source": [
    "class child(grandfather,father,mother):\n",
    "    def __init__(self,*args,**kwrgs):\n",
    "        grandfather.__init__(self,*args)\n",
    "        father.__init__(self,**kwrgs)\n",
    "        mother.__init__(self,**kwrgs)"
   ]
  },
  {
   "cell_type": "code",
   "execution_count": 36,
   "id": "52622f25",
   "metadata": {},
   "outputs": [
    {
     "ename": "TypeError",
     "evalue": "__init__() takes 2 positional arguments but 3 were given",
     "output_type": "error",
     "traceback": [
      "\u001b[1;31m---------------------------------------------------------------------------\u001b[0m",
      "\u001b[1;31mTypeError\u001b[0m                                 Traceback (most recent call last)",
      "\u001b[1;32m<ipython-input-36-e6fc5cc0c329>\u001b[0m in \u001b[0;36m<module>\u001b[1;34m\u001b[0m\n\u001b[1;32m----> 1\u001b[1;33m \u001b[0ml\u001b[0m\u001b[1;33m=\u001b[0m \u001b[0mchild\u001b[0m\u001b[1;33m(\u001b[0m\u001b[1;36m1\u001b[0m\u001b[1;33m,\u001b[0m\u001b[1;36m2\u001b[0m\u001b[1;33m)\u001b[0m\u001b[1;33m\u001b[0m\u001b[1;33m\u001b[0m\u001b[0m\n\u001b[0m",
      "\u001b[1;32m<ipython-input-35-e4bb529791ed>\u001b[0m in \u001b[0;36m__init__\u001b[1;34m(self, *args, **kwrgs)\u001b[0m\n\u001b[0;32m      1\u001b[0m \u001b[1;32mclass\u001b[0m \u001b[0mchild\u001b[0m\u001b[1;33m(\u001b[0m\u001b[0mgrandfather\u001b[0m\u001b[1;33m,\u001b[0m\u001b[0mfather\u001b[0m\u001b[1;33m,\u001b[0m\u001b[0mmother\u001b[0m\u001b[1;33m)\u001b[0m\u001b[1;33m:\u001b[0m\u001b[1;33m\u001b[0m\u001b[1;33m\u001b[0m\u001b[0m\n\u001b[0;32m      2\u001b[0m     \u001b[1;32mdef\u001b[0m \u001b[0m__init__\u001b[0m\u001b[1;33m(\u001b[0m\u001b[0mself\u001b[0m\u001b[1;33m,\u001b[0m\u001b[1;33m*\u001b[0m\u001b[0margs\u001b[0m\u001b[1;33m,\u001b[0m\u001b[1;33m**\u001b[0m\u001b[0mkwrgs\u001b[0m\u001b[1;33m)\u001b[0m\u001b[1;33m:\u001b[0m\u001b[1;33m\u001b[0m\u001b[1;33m\u001b[0m\u001b[0m\n\u001b[1;32m----> 3\u001b[1;33m         \u001b[0mgrandfather\u001b[0m\u001b[1;33m.\u001b[0m\u001b[0m__init__\u001b[0m\u001b[1;33m(\u001b[0m\u001b[0mself\u001b[0m\u001b[1;33m,\u001b[0m\u001b[1;33m*\u001b[0m\u001b[0margs\u001b[0m\u001b[1;33m)\u001b[0m\u001b[1;33m\u001b[0m\u001b[1;33m\u001b[0m\u001b[0m\n\u001b[0m\u001b[0;32m      4\u001b[0m         \u001b[0mfather\u001b[0m\u001b[1;33m.\u001b[0m\u001b[0m__init__\u001b[0m\u001b[1;33m(\u001b[0m\u001b[0mself\u001b[0m\u001b[1;33m,\u001b[0m\u001b[1;33m**\u001b[0m\u001b[0mkwrgs\u001b[0m\u001b[1;33m)\u001b[0m\u001b[1;33m\u001b[0m\u001b[1;33m\u001b[0m\u001b[0m\n\u001b[0;32m      5\u001b[0m         \u001b[0mmother\u001b[0m\u001b[1;33m.\u001b[0m\u001b[0m__init__\u001b[0m\u001b[1;33m(\u001b[0m\u001b[0mself\u001b[0m\u001b[1;33m,\u001b[0m\u001b[1;33m**\u001b[0m\u001b[0mkwrgs\u001b[0m\u001b[1;33m)\u001b[0m\u001b[1;33m\u001b[0m\u001b[1;33m\u001b[0m\u001b[0m\n",
      "\u001b[1;31mTypeError\u001b[0m: __init__() takes 2 positional arguments but 3 were given"
     ]
    }
   ],
   "source": [
    "l= child(1,2)"
   ]
  },
  {
   "cell_type": "code",
   "execution_count": null,
   "id": "b6a0819c",
   "metadata": {},
   "outputs": [],
   "source": [
    "\"\"\"\n",
    "1. Create a file class for reading data from respective file with a method na,e read and write.\n",
    "2. try to inherit read and write method from parent class to child class to perform read and write operation\n",
    "\"\"\""
   ]
  },
  {
   "cell_type": "code",
   "execution_count": 53,
   "id": "9509d93d",
   "metadata": {},
   "outputs": [],
   "source": [
    "class Parent:\n",
    "    def __init__(self,file,line):\n",
    "        self.file= file\n",
    "        self.line=line\n",
    "    def write(self):\n",
    "        \n",
    "        with open(f\"{self.file}.txt\",\"w\") as f:\n",
    "            data= f.write(self.line)\n",
    "            \n",
    "        #self.file= open(\"badhon.txt\",\"w\")\n",
    "        #self.file.write(\"I want to be a dat scientist:)))) I want to earn lots of money and I want make my parents happy:))\")\n",
    "    \n",
    "    def read(self):\n",
    "        \n",
    "        with open(f\"{self.file}.txt\",\"r\") as f:\n",
    "            data= f.read()\n",
    "        return data\n",
    "    \n",
    "    \n",
    "    \n",
    "        #self.file=open(\"badhon.txt\",\"r\")"
   ]
  },
  {
   "cell_type": "code",
   "execution_count": 54,
   "id": "000fcf77",
   "metadata": {},
   "outputs": [],
   "source": [
    "c= Parent(\"badhon\",\"Iamokay\")"
   ]
  },
  {
   "cell_type": "code",
   "execution_count": 55,
   "id": "ad4f1fac",
   "metadata": {},
   "outputs": [],
   "source": [
    "c.write()"
   ]
  },
  {
   "cell_type": "code",
   "execution_count": 56,
   "id": "727313ed",
   "metadata": {},
   "outputs": [
    {
     "data": {
      "text/plain": [
       "'Iamokay'"
      ]
     },
     "execution_count": 56,
     "metadata": {},
     "output_type": "execute_result"
    }
   ],
   "source": [
    "c.read()"
   ]
  },
  {
   "cell_type": "code",
   "execution_count": null,
   "id": "143c7d07",
   "metadata": {},
   "outputs": [],
   "source": [
    "class Child(Parent)"
   ]
  },
  {
   "cell_type": "code",
   "execution_count": 63,
   "id": "c7103139",
   "metadata": {},
   "outputs": [
    {
     "data": {
      "text/plain": [
       "7"
      ]
     },
     "execution_count": 63,
     "metadata": {},
     "output_type": "execute_result"
    }
   ],
   "source": [
    "#Public\n",
    "#Private\n",
    "#Protected\n",
    "\n",
    "\n",
    "class test:\n",
    "    def __init__(self):\n",
    "     \n",
    "        self.a=5\n",
    "        \n",
    "class test1(test):\n",
    "    def __init__(self):\n",
    "        self.a=7\n",
    "    \n",
    "x=test1()\n",
    "x.a  #pblic\n"
   ]
  },
  {
   "cell_type": "code",
   "execution_count": null,
   "id": "f63399d0",
   "metadata": {},
   "outputs": [],
   "source": []
  },
  {
   "cell_type": "code",
   "execution_count": null,
   "id": "f2e25507",
   "metadata": {},
   "outputs": [],
   "source": []
  }
 ],
 "metadata": {
  "kernelspec": {
   "display_name": "Python 3",
   "language": "python",
   "name": "python3"
  },
  "language_info": {
   "codemirror_mode": {
    "name": "ipython",
    "version": 3
   },
   "file_extension": ".py",
   "mimetype": "text/x-python",
   "name": "python",
   "nbconvert_exporter": "python",
   "pygments_lexer": "ipython3",
   "version": "3.9.2"
  }
 },
 "nbformat": 4,
 "nbformat_minor": 5
}
